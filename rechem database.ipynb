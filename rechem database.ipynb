{
 "cells": [
  {
   "cell_type": "code",
   "execution_count": 2,
   "metadata": {},
   "outputs": [],
   "source": [
    "import ast\n",
    "import sqlite3\n",
    "import pandas as pd\n",
    "# Create your connection.\n",
    "c = sqlite3.connect('rechem_listings.db')\n",
    "with open('rechem_drug_titles', 'r') as f:\n",
    "        s = f.read()\n",
    "        drug_title_dict = ast.literal_eval(s)"
   ]
  },
  {
   "cell_type": "code",
   "execution_count": 9,
   "metadata": {},
   "outputs": [],
   "source": [
    "pages = pd.read_sql_query(\"SELECT * FROM Listings\", c)\n",
    "listings = pd.read_sql_query(\"SELECT * FROM Listing_index\", c)"
   ]
  },
  {
   "cell_type": "code",
   "execution_count": 25,
   "metadata": {},
   "outputs": [],
   "source": [
    "for i, row in listings.iterrows():\n",
    "    listings.loc[i,'drug'] = drug_title_dict[row['title']]"
   ]
  },
  {
   "cell_type": "code",
   "execution_count": null,
   "metadata": {},
   "outputs": [],
   "source": [
    "m = Market(name=\"rechem_real\")\n",
    "db.session.add(m)\n",
    "db.session.commit\n",
    "\n",
    "\n",
    "for i, row in listings.iterrows():\n",
    "    drug = Drug.query.filter_by(name=row['drug']).first()\n",
    "    if not drug:\n",
    "        db.session.add(Drug(name=row['drug']))\n",
    "        db.session.commit()\n",
    "    listing = Listing(url=row['url'], market=m, drug=drug)\n",
    "    \n",
    "pages = []\n",
    "for i, row in pages.iterrows():\n",
    "    listing = listings[listings['id']==row['listing_index_id']]\n",
    "    listing_drug = listing['drug'].item()\n",
    "    listing_name = listing['title'].item()\n",
    "    listing = Listing.query.filter_by(name=listing_drug).first()\n",
    "    page = Page(html=row['page_text'], timestamp=row['scraped_time'], name=listing_name, listing=listing)\n",
    "    pages.append(page)\n",
    "\n",
    "db.session.add_all(pages)\n",
    "db.session.commit()"
   ]
  }
 ],
 "metadata": {
  "kernelspec": {
   "display_name": "Python 3",
   "language": "python",
   "name": "python3"
  },
  "language_info": {
   "codemirror_mode": {
    "name": "ipython",
    "version": 3
   },
   "file_extension": ".py",
   "mimetype": "text/x-python",
   "name": "python",
   "nbconvert_exporter": "python",
   "pygments_lexer": "ipython3",
   "version": "3.7.3"
  }
 },
 "nbformat": 4,
 "nbformat_minor": 2
}
