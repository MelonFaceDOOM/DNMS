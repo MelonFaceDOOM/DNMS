{
 "cells": [
  {
   "cell_type": "code",
   "execution_count": null,
   "metadata": {},
   "outputs": [],
   "source": [
    "import mock_data\n",
    "\n",
    "r = mock_data.gen_rechem_listings()"
   ]
  },
  {
   "cell_type": "code",
   "execution_count": 14,
   "metadata": {},
   "outputs": [
    {
     "data": {
      "text/plain": [
       "['https://bbbbb.com/mock_data/drug=a',\n",
       " 'https://bbbbb.com/mock_data/drug=b',\n",
       " 'https://bbbbb.com/mock_data/drug=c',\n",
       " 'https://bbbbb.com/mock_data/drug=d',\n",
       " 'https://bbbbb.com/mock_data/drug=e',\n",
       " 'https://bbbbb.com/mock_data/drug=f',\n",
       " 'https://bbbbb.com/mock_data/drug=g']"
      ]
     },
     "execution_count": 14,
     "metadata": {},
     "output_type": "execute_result"
    }
   ],
   "source": [
    "from random import randint, sample\n",
    "drugs = [\"a\", \"b\", \"c\", \"d\", \"e\", \"f\", \"g\"]\n",
    "#sellers = [\"s1\", \"s2\", \"s3\", \"s4\"]\n",
    "sellers = []\n",
    "urls = []\n",
    "market_name = \"bbbbb\"\n",
    "\n",
    "for drug in drugs:\n",
    "    rand_sellers = sample(population=sellers, k=randint(1, 3)) if sellers else None\n",
    "    rand_origins = sample(population=origins, k=randint(1, 3)) if origins else None\n",
    "    while True:\n",
    "        seller = rand_sellers.pop() if rand_sellers else None\n",
    "        url = \"https://{}.com/mock_data{}/drug={}\".format(market_name, \"/seller={}\".format(seller) if seller else '', drug)\n",
    "        urls.append(url)\n",
    "        if not rand_sellers:\n",
    "            break\n",
    "urls"
   ]
  },
  {
   "cell_type": "code",
   "execution_count": 72,
   "metadata": {},
   "outputs": [],
   "source": [
    "from random import randint\n",
    "listings = range(0,50)\n",
    "total_pages = 500\n",
    "pages_per_listing = int(total_pages / len(listings))\n",
    "spread = int(pages_per_listing * 0.4)\n",
    "spread = 1 if spread==0 else spread\n",
    "base = pages_per_listing-spread\n",
    "base = 0 if base<0 else base\n",
    "\n",
    "listings_and_pages = []\n",
    "for listing in listings:\n",
    "    pages = randint(base, pages_per_listing+spread)\n",
    "    listings_and_pages.append([listing, pages])\n",
    "\n",
    "pre_total = sum([lp[1] for lp in listings_and_pages])"
   ]
  },
  {
   "cell_type": "code",
   "execution_count": 73,
   "metadata": {},
   "outputs": [],
   "source": [
    "difference = total_pages - pre_total\n",
    "for i in range(abs(difference)):\n",
    "    if difference > 0:\n",
    "        listings_and_pages[randint(0, len(listings_and_pages))-1][1] += 1\n",
    "    else:\n",
    "        idx = randint(0, len(listings_and_pages))-1\n",
    "        while True:\n",
    "            if listings_and_pages[idx][1] > 0:\n",
    "                listings_and_pages[idx][1] -= 1\n",
    "                break\n",
    "            else:\n",
    "                idx += 1 if idx < len(listings_and_pages)-1 else 0"
   ]
  },
  {
   "cell_type": "code",
   "execution_count": 74,
   "metadata": {},
   "outputs": [
    {
     "data": {
      "text/plain": [
       "[[0, 12],\n",
       " [1, 6],\n",
       " [2, 12],\n",
       " [3, 11],\n",
       " [4, 13],\n",
       " [5, 11],\n",
       " [6, 13],\n",
       " [7, 13],\n",
       " [8, 8],\n",
       " [9, 11],\n",
       " [10, 14],\n",
       " [11, 15],\n",
       " [12, 13],\n",
       " [13, 6],\n",
       " [14, 11],\n",
       " [15, 12],\n",
       " [16, 8],\n",
       " [17, 14],\n",
       " [18, 9],\n",
       " [19, 7],\n",
       " [20, 10],\n",
       " [21, 11],\n",
       " [22, 11],\n",
       " [23, 6],\n",
       " [24, 10],\n",
       " [25, 10],\n",
       " [26, 10],\n",
       " [27, 13],\n",
       " [28, 13],\n",
       " [29, 7],\n",
       " [30, 6],\n",
       " [31, 7],\n",
       " [32, 6],\n",
       " [33, 11],\n",
       " [34, 11],\n",
       " [35, 8],\n",
       " [36, 6],\n",
       " [37, 13],\n",
       " [38, 7],\n",
       " [39, 7],\n",
       " [40, 9],\n",
       " [41, 7],\n",
       " [42, 10],\n",
       " [43, 12],\n",
       " [44, 8],\n",
       " [45, 13],\n",
       " [46, 7],\n",
       " [47, 11],\n",
       " [48, 14],\n",
       " [49, 7]]"
      ]
     },
     "execution_count": 74,
     "metadata": {},
     "output_type": "execute_result"
    }
   ],
   "source": [
    "listings_and_pages"
   ]
  }
 ],
 "metadata": {
  "kernelspec": {
   "display_name": "Python 3",
   "language": "python",
   "name": "python3"
  },
  "language_info": {
   "codemirror_mode": {
    "name": "ipython",
    "version": 3
   },
   "file_extension": ".py",
   "mimetype": "text/x-python",
   "name": "python",
   "nbconvert_exporter": "python",
   "pygments_lexer": "ipython3",
   "version": "3.7.3"
  }
 },
 "nbformat": 4,
 "nbformat_minor": 2
}
